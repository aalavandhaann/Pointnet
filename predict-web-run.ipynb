{
 "cells": [
  {
   "cell_type": "code",
   "execution_count": null,
   "id": "e23f52ba-2473-4e2b-932e-f26daf58a4bf",
   "metadata": {},
   "outputs": [],
   "source": [
    "%matplotlib ipympl\n",
    "import math\n",
    "import os\n",
    "os.environ['TF_CPP_MIN_LOG_LEVEL'] = \"2\"\n",
    "os.environ['CUDA_VISIBLE_DEVICES'] = '-1'\n",
    "import pathlib\n",
    "\n",
    "from tqdm import tqdm\n",
    "import numpy as np\n",
    "from matplotlib import pyplot as plt\n",
    "\n",
    "import tensorflow as tf\n",
    "import constants\n",
    "import datasetloader\n",
    "import model"
   ]
  },
  {
   "cell_type": "code",
   "execution_count": null,
   "id": "d30f1161-d0ed-4c60-9bc8-db74ddb72203",
   "metadata": {},
   "outputs": [],
   "source": [
    "tf.random.set_seed(constants.RANDOM_SEED)\n",
    "DATASET_SAVED_PATH:pathlib.Path = pathlib.Path('./', 'ModelNet10')\n",
    "\"\"\" Load the pointcloud dataset \"\"\"\n",
    "_, test_points, _, test_labels, class_map = datasetloader.processDataset(DATASET_SAVED_PATH, constants.UNIFORM_SAMPLE_COUNT)\n",
    "# test_labels.shape = (test_labels.shape[0], 1)\n",
    "print('TEST SHAPES ::: ', test_points.shape, test_labels.shape)\n",
    "\n",
    "print('LOAD WEIGHTS FROM A CHECKPOINT')\n",
    "checkpoint_path = pathlib.Path('./trained_model/checkpoints')\n",
    "\n",
    "\"\"\" Create the tensor slices of the loaded dataset (for both training and testing) \"\"\"\n",
    "print('CREATEING THE TENSOR SLICES FOR THE TRAINING AND TESTING DATASET')\n",
    "test_dataset = tf.data.Dataset.from_tensor_slices((test_points, test_labels))\n",
    "print('TEST DATASET SHAPES :::: ', test_dataset)\n",
    "\n",
    "\"\"\" Apply shuffling only for the testing dataset \"\"\"\n",
    "test_dataset = test_dataset.shuffle(len(test_points)).batch(908)"
   ]
  },
  {
   "cell_type": "code",
   "execution_count": null,
   "id": "8460caa4-8e35-40f2-b000-78f4824b0e1b",
   "metadata": {},
   "outputs": [],
   "source": [
    "\"\"\" Create the pointnet model \"\"\"\n",
    "print('INITIALIZE THE POINTNET MODEL')\n",
    "model = model.createPointNetModel(constants.UNIFORM_SAMPLE_COUNT, constants.NUM_CLASSES)\n",
    "latest = tf.train.latest_checkpoint(checkpoint_path)\n",
    "# Load the previously saved weights\n",
    "model.load_weights(latest)"
   ]
  },
  {
   "cell_type": "code",
   "execution_count": null,
   "id": "a16cea3a-e885-4147-87da-0dd39cd59a74",
   "metadata": {},
   "outputs": [],
   "source": [
    "correct_predictions = 0\n",
    "evaluate_count = 99\n",
    "columns = 4\n",
    "rows = int(math.ceil(evaluate_count / columns))\n",
    "data = test_dataset.take(1)\n",
    "points, labels = list(data)[0]\n",
    "\n",
    "# print('DATA ::: ', list(data))\n",
    "print('DATA SIZE ::: ', [(p.shape, l.shape) for p, l in list(data)])\n",
    "print('LABELS ::: ', test_labels.shape)\n",
    "print('POINTS ::: ', points.shape)\n",
    "print('LABELS :::', labels.shape)\n",
    "points = points[:evaluate_count, ...]\n",
    "labels = labels[:evaluate_count, ...]\n",
    "\n",
    "# raise IndentationError\n",
    "\n",
    "# run test data through model\n",
    "preds = model.predict(points)\n",
    "preds = tf.math.argmax(preds, -1)\n",
    "\n",
    "points = points.numpy()"
   ]
  },
  {
   "cell_type": "code",
   "execution_count": null,
   "id": "ca9521a0-b8c6-46a4-90ae-cc97103ca13d",
   "metadata": {},
   "outputs": [],
   "source": [
    "def plot3D(fig, title, points, rows, columns, index):\n",
    "    ax = fig.add_subplot(rows, columns,  index, projection=\"3d\")\n",
    "    ax.scatter(points[:,0], points[:,1], points[:,2])\n",
    "    ax.set_title(title)\n",
    "    ax.set_axis_off()    \n",
    "\n",
    "correct_predictions = 0\n",
    "#%matplotlib widget\n",
    "# plot points with predicted class and label\n",
    "fig = plt.figure(figsize=(15, 10))\n",
    "for i in range(evaluate_count):\n",
    "    title = \"pred: {:}, label: {:}\".format(class_map[preds[i].numpy()], class_map[labels.numpy()[i]])\n",
    "    plot3D(fig, title, points[i], rows, columns, i + 1)\n",
    "    if(preds[i].numpy() == labels.numpy()[i]):\n",
    "        correct_predictions += 1\n",
    "plt.show()\n",
    "ratio = float(correct_predictions) / float(evaluate_count)\n",
    "print(f'Prediction Accuracy : {round(ratio*100.0, 2)}%, Total: {evaluate_count}, Correct: {correct_predictions}')\n",
    "\n",
    "%load_ext tensorboard\n",
    "%tensorboard --host 10.180.89.159 --logdir logs"
   ]
  },
  {
   "cell_type": "code",
   "execution_count": null,
   "id": "d1cc5284-c2a2-4ec3-a705-9973dcb54cc4",
   "metadata": {},
   "outputs": [],
   "source": []
  }
 ],
 "metadata": {
  "kernelspec": {
   "display_name": "Python 3 (ipykernel)",
   "language": "python",
   "name": "python3"
  },
  "language_info": {
   "codemirror_mode": {
    "name": "ipython",
    "version": 3
   },
   "file_extension": ".py",
   "mimetype": "text/x-python",
   "name": "python",
   "nbconvert_exporter": "python",
   "pygments_lexer": "ipython3",
   "version": "3.10.6"
  },
  "vscode": {
   "interpreter": {
    "hash": "29cc430c398484d530646a32256470a5127e5582f9e4a7c981cc94417fa8cb53"
   }
  }
 },
 "nbformat": 4,
 "nbformat_minor": 5
}
